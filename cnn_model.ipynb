{
 "cells": [
  {
   "cell_type": "code",
   "execution_count": 1,
   "id": "25da04c7-9b48-44b5-aab4-3b0958b19cdc",
   "metadata": {},
   "outputs": [],
   "source": [
    "import numpy as np"
   ]
  },
  {
   "cell_type": "code",
   "execution_count": 2,
   "id": "91854d3f-886b-4700-993b-08e89ecd36b7",
   "metadata": {},
   "outputs": [],
   "source": [
    "#importing training,validation and testing data from previous notebook"
   ]
  },
  {
   "cell_type": "code",
   "execution_count": 3,
   "id": "0574625e-5757-451e-a416-fd2236ab4ee4",
   "metadata": {},
   "outputs": [],
   "source": [
    "x_train = np.load('train_data.npy')\n",
    "y_train = np.load('y_train.npy')"
   ]
  },
  {
   "cell_type": "code",
   "execution_count": 4,
   "id": "c4019cd1-57e1-426a-aaee-3e71d918aab2",
   "metadata": {},
   "outputs": [],
   "source": [
    "x_validn = np.load('validation_data.npy')\n",
    "y_validn = np.load('y_validation_data.npy')"
   ]
  },
  {
   "cell_type": "code",
   "execution_count": 5,
   "id": "b7486469-8660-4942-95fe-b0249ac57ccf",
   "metadata": {},
   "outputs": [],
   "source": [
    "x_test = np.load('test_data.npy')\n",
    "y_test = np.load('y_test.npy')"
   ]
  },
  {
   "cell_type": "code",
   "execution_count": 6,
   "id": "f92c812c-ce2c-4538-a17e-a7d7356f3e12",
   "metadata": {},
   "outputs": [],
   "source": [
    "from keras.models import Sequential\n",
    "from keras.layers import Dense,Activation,Flatten,Dropout\n",
    "from keras.layers import Conv2D,MaxPooling2D\n",
    "from keras.callbacks import ModelCheckpoint"
   ]
  },
  {
   "cell_type": "code",
   "execution_count": 7,
   "id": "170a5c0d-c655-446a-98de-244584cb9756",
   "metadata": {},
   "outputs": [],
   "source": [
    "model = Sequential()"
   ]
  },
  {
   "cell_type": "code",
   "execution_count": 8,
   "id": "c03cad96-ba88-4fda-9b7b-a0bf9b0eddfe",
   "metadata": {},
   "outputs": [
    {
     "data": {
      "text/plain": [
       "(100, 100, 1)"
      ]
     },
     "execution_count": 8,
     "metadata": {},
     "output_type": "execute_result"
    }
   ],
   "source": [
    "x_train.shape[1:]"
   ]
  },
  {
   "cell_type": "code",
   "execution_count": 9,
   "id": "9757995a-b306-4fb9-8c77-a0ec11e58d8a",
   "metadata": {},
   "outputs": [],
   "source": [
    "#conv layer 1\n",
    "model.add(Conv2D(200,(3,3),input_shape = x_train.shape[1:]))\n",
    "model.add(Activation('relu'))\n",
    "model.add(MaxPooling2D(pool_size = (2,2)))"
   ]
  },
  {
   "cell_type": "code",
   "execution_count": 10,
   "id": "429127ad-dbd2-47a1-b105-686b7f9fb789",
   "metadata": {},
   "outputs": [],
   "source": [
    "#conv layer 2\n",
    "model.add(Conv2D(100,(3,3)))\n",
    "model.add(Activation('relu'))\n",
    "model.add(MaxPooling2D(pool_size = (2,2)))"
   ]
  },
  {
   "cell_type": "code",
   "execution_count": 11,
   "id": "c1b970b9-affc-4a43-b8f9-5fa539ae7444",
   "metadata": {},
   "outputs": [],
   "source": [
    "#conv layer 3\n",
    "model.add(Conv2D(50,(3,3)))\n",
    "model.add(Activation('relu'))\n",
    "model.add(MaxPooling2D(pool_size = (2,2)))"
   ]
  },
  {
   "cell_type": "code",
   "execution_count": 12,
   "id": "0322ab0a-2c2e-423e-a4ec-765e4efe022c",
   "metadata": {},
   "outputs": [],
   "source": [
    "#Dense layers"
   ]
  },
  {
   "cell_type": "code",
   "execution_count": 13,
   "id": "56da0f93-2144-44a8-afa8-6366e08fd0d6",
   "metadata": {},
   "outputs": [],
   "source": [
    "#flattening output before inputting it into dense layers"
   ]
  },
  {
   "cell_type": "code",
   "execution_count": 14,
   "id": "44d95b43-4e0b-4278-8f48-4ae31e21f374",
   "metadata": {},
   "outputs": [],
   "source": [
    "model.add(Flatten())\n",
    "model.add(Dropout(0.5))"
   ]
  },
  {
   "cell_type": "code",
   "execution_count": 15,
   "id": "2e1b3ba0-0533-4543-a788-0bc620d74dbc",
   "metadata": {},
   "outputs": [],
   "source": [
    "model.add(Dense(64,activation = 'relu'))\n",
    "model.add(Dense(50,activation = 'relu'))"
   ]
  },
  {
   "cell_type": "code",
   "execution_count": 16,
   "id": "e9db546f-e361-4899-aa68-54ba38f6f766",
   "metadata": {},
   "outputs": [],
   "source": [
    "#ouput layer of 7 units with softmax function"
   ]
  },
  {
   "cell_type": "code",
   "execution_count": 17,
   "id": "a4ef3aa6-c733-46d6-9db3-eb6d8c940007",
   "metadata": {},
   "outputs": [],
   "source": [
    "model.add(Dense(7,activation = 'softmax'))"
   ]
  },
  {
   "cell_type": "code",
   "execution_count": 18,
   "id": "d0c19010-5c69-49aa-9ed8-2d3c1d13c7b6",
   "metadata": {},
   "outputs": [],
   "source": [
    "model.compile(loss = 'categorical_crossentropy', optimizer = 'adam', metrics = ['accuracy'])"
   ]
  },
  {
   "cell_type": "code",
   "execution_count": 19,
   "id": "111af0a6-d9b0-4ad6-8e5e-e84ba7ae1f4c",
   "metadata": {},
   "outputs": [],
   "source": [
    "#adding checkpoint for picking the best model after training"
   ]
  },
  {
   "cell_type": "code",
   "execution_count": 20,
   "id": "7c230683-88dd-4bde-bd0f-e5349f32e890",
   "metadata": {},
   "outputs": [],
   "source": [
    "checkpoint = ModelCheckpoint('model-{epoch:03d}.model', monitor = 'val_loss' ,verbose = 0,save_best_only = True, mode= 'auto')"
   ]
  },
  {
   "cell_type": "code",
   "execution_count": 21,
   "id": "59b49aaf-2d61-45f7-bbb9-634be9cfbc16",
   "metadata": {},
   "outputs": [
    {
     "name": "stdout",
     "output_type": "stream",
     "text": [
      "Epoch 1/30\n",
      "219/219 [==============================] - ETA: 0s - loss: 1.4918 - accuracy: 0.4093INFO:tensorflow:Assets written to: model-001.model\\assets\n"
     ]
    },
    {
     "name": "stderr",
     "output_type": "stream",
     "text": [
      "INFO:tensorflow:Assets written to: model-001.model\\assets\n"
     ]
    },
    {
     "name": "stdout",
     "output_type": "stream",
     "text": [
      "219/219 [==============================] - 368s 2s/step - loss: 1.4918 - accuracy: 0.4093 - val_loss: 0.9191 - val_accuracy: 0.6750\n",
      "Epoch 2/30\n",
      "219/219 [==============================] - ETA: 0s - loss: 0.8669 - accuracy: 0.6824INFO:tensorflow:Assets written to: model-002.model\\assets\n"
     ]
    },
    {
     "name": "stderr",
     "output_type": "stream",
     "text": [
      "INFO:tensorflow:Assets written to: model-002.model\\assets\n"
     ]
    },
    {
     "name": "stdout",
     "output_type": "stream",
     "text": [
      "219/219 [==============================] - 357s 2s/step - loss: 0.8669 - accuracy: 0.6824 - val_loss: 0.5549 - val_accuracy: 0.8150\n",
      "Epoch 3/30\n",
      "219/219 [==============================] - ETA: 0s - loss: 0.5678 - accuracy: 0.7957INFO:tensorflow:Assets written to: model-003.model\\assets\n"
     ]
    },
    {
     "name": "stderr",
     "output_type": "stream",
     "text": [
      "INFO:tensorflow:Assets written to: model-003.model\\assets\n"
     ]
    },
    {
     "name": "stdout",
     "output_type": "stream",
     "text": [
      "219/219 [==============================] - 360s 2s/step - loss: 0.5678 - accuracy: 0.7957 - val_loss: 0.4399 - val_accuracy: 0.8457\n",
      "Epoch 4/30\n",
      "219/219 [==============================] - ETA: 0s - loss: 0.4525 - accuracy: 0.8340INFO:tensorflow:Assets written to: model-004.model\\assets\n"
     ]
    },
    {
     "name": "stderr",
     "output_type": "stream",
     "text": [
      "INFO:tensorflow:Assets written to: model-004.model\\assets\n"
     ]
    },
    {
     "name": "stdout",
     "output_type": "stream",
     "text": [
      "219/219 [==============================] - 260s 1s/step - loss: 0.4525 - accuracy: 0.8340 - val_loss: 0.4147 - val_accuracy: 0.8521\n",
      "Epoch 5/30\n",
      "219/219 [==============================] - ETA: 0s - loss: 0.3654 - accuracy: 0.8714INFO:tensorflow:Assets written to: model-005.model\\assets\n"
     ]
    },
    {
     "name": "stderr",
     "output_type": "stream",
     "text": [
      "INFO:tensorflow:Assets written to: model-005.model\\assets\n"
     ]
    },
    {
     "name": "stdout",
     "output_type": "stream",
     "text": [
      "219/219 [==============================] - 253s 1s/step - loss: 0.3654 - accuracy: 0.8714 - val_loss: 0.3424 - val_accuracy: 0.8771\n",
      "Epoch 6/30\n",
      "219/219 [==============================] - ETA: 0s - loss: 0.3105 - accuracy: 0.8899INFO:tensorflow:Assets written to: model-006.model\\assets\n"
     ]
    },
    {
     "name": "stderr",
     "output_type": "stream",
     "text": [
      "INFO:tensorflow:Assets written to: model-006.model\\assets\n"
     ]
    },
    {
     "name": "stdout",
     "output_type": "stream",
     "text": [
      "219/219 [==============================] - 254s 1s/step - loss: 0.3105 - accuracy: 0.8899 - val_loss: 0.2772 - val_accuracy: 0.9036\n",
      "Epoch 7/30\n",
      "219/219 [==============================] - ETA: 0s - loss: 0.2839 - accuracy: 0.9013INFO:tensorflow:Assets written to: model-007.model\\assets\n"
     ]
    },
    {
     "name": "stderr",
     "output_type": "stream",
     "text": [
      "INFO:tensorflow:Assets written to: model-007.model\\assets\n"
     ]
    },
    {
     "name": "stdout",
     "output_type": "stream",
     "text": [
      "219/219 [==============================] - 257s 1s/step - loss: 0.2839 - accuracy: 0.9013 - val_loss: 0.2392 - val_accuracy: 0.9171\n",
      "Epoch 8/30\n",
      "219/219 [==============================] - ETA: 0s - loss: 0.2448 - accuracy: 0.9147INFO:tensorflow:Assets written to: model-008.model\\assets\n"
     ]
    },
    {
     "name": "stderr",
     "output_type": "stream",
     "text": [
      "INFO:tensorflow:Assets written to: model-008.model\\assets\n"
     ]
    },
    {
     "name": "stdout",
     "output_type": "stream",
     "text": [
      "219/219 [==============================] - 255s 1s/step - loss: 0.2448 - accuracy: 0.9147 - val_loss: 0.2135 - val_accuracy: 0.9286\n",
      "Epoch 9/30\n",
      "219/219 [==============================] - ETA: 0s - loss: 0.2165 - accuracy: 0.9240INFO:tensorflow:Assets written to: model-009.model\\assets\n"
     ]
    },
    {
     "name": "stderr",
     "output_type": "stream",
     "text": [
      "INFO:tensorflow:Assets written to: model-009.model\\assets\n"
     ]
    },
    {
     "name": "stdout",
     "output_type": "stream",
     "text": [
      "219/219 [==============================] - 254s 1s/step - loss: 0.2165 - accuracy: 0.9240 - val_loss: 0.2122 - val_accuracy: 0.9279\n",
      "Epoch 10/30\n",
      "219/219 [==============================] - ETA: 0s - loss: 0.1984 - accuracy: 0.9281INFO:tensorflow:Assets written to: model-010.model\\assets\n"
     ]
    },
    {
     "name": "stderr",
     "output_type": "stream",
     "text": [
      "INFO:tensorflow:Assets written to: model-010.model\\assets\n"
     ]
    },
    {
     "name": "stdout",
     "output_type": "stream",
     "text": [
      "219/219 [==============================] - 255s 1s/step - loss: 0.1984 - accuracy: 0.9281 - val_loss: 0.1961 - val_accuracy: 0.9414\n",
      "Epoch 11/30\n",
      "219/219 [==============================] - ETA: 0s - loss: 0.1850 - accuracy: 0.9347INFO:tensorflow:Assets written to: model-011.model\\assets\n"
     ]
    },
    {
     "name": "stderr",
     "output_type": "stream",
     "text": [
      "INFO:tensorflow:Assets written to: model-011.model\\assets\n"
     ]
    },
    {
     "name": "stdout",
     "output_type": "stream",
     "text": [
      "219/219 [==============================] - 254s 1s/step - loss: 0.1850 - accuracy: 0.9347 - val_loss: 0.1867 - val_accuracy: 0.9379\n",
      "Epoch 12/30\n",
      "219/219 [==============================] - 253s 1s/step - loss: 0.1537 - accuracy: 0.9484 - val_loss: 0.1997 - val_accuracy: 0.9350\n",
      "Epoch 13/30\n",
      "219/219 [==============================] - ETA: 0s - loss: 0.1320 - accuracy: 0.9533INFO:tensorflow:Assets written to: model-013.model\\assets\n"
     ]
    },
    {
     "name": "stderr",
     "output_type": "stream",
     "text": [
      "INFO:tensorflow:Assets written to: model-013.model\\assets\n"
     ]
    },
    {
     "name": "stdout",
     "output_type": "stream",
     "text": [
      "219/219 [==============================] - 254s 1s/step - loss: 0.1320 - accuracy: 0.9533 - val_loss: 0.1573 - val_accuracy: 0.9514\n",
      "Epoch 14/30\n",
      "219/219 [==============================] - 254s 1s/step - loss: 0.1322 - accuracy: 0.9551 - val_loss: 0.1995 - val_accuracy: 0.9393\n",
      "Epoch 15/30\n",
      "219/219 [==============================] - ETA: 0s - loss: 0.1462 - accuracy: 0.9476INFO:tensorflow:Assets written to: model-015.model\\assets\n"
     ]
    },
    {
     "name": "stderr",
     "output_type": "stream",
     "text": [
      "INFO:tensorflow:Assets written to: model-015.model\\assets\n"
     ]
    },
    {
     "name": "stdout",
     "output_type": "stream",
     "text": [
      "219/219 [==============================] - 253s 1s/step - loss: 0.1462 - accuracy: 0.9476 - val_loss: 0.1517 - val_accuracy: 0.9521\n",
      "Epoch 16/30\n",
      "219/219 [==============================] - 255s 1s/step - loss: 0.1204 - accuracy: 0.9584 - val_loss: 0.2356 - val_accuracy: 0.9279\n",
      "Epoch 17/30\n",
      "219/219 [==============================] - 251s 1s/step - loss: 0.0930 - accuracy: 0.9691 - val_loss: 0.1929 - val_accuracy: 0.9429\n",
      "Epoch 18/30\n",
      "219/219 [==============================] - 250s 1s/step - loss: 0.1066 - accuracy: 0.9640 - val_loss: 0.1864 - val_accuracy: 0.9471\n",
      "Epoch 19/30\n",
      "219/219 [==============================] - 250s 1s/step - loss: 0.0937 - accuracy: 0.9677 - val_loss: 0.1672 - val_accuracy: 0.9479\n",
      "Epoch 20/30\n",
      "219/219 [==============================] - 249s 1s/step - loss: 0.1005 - accuracy: 0.9659 - val_loss: 0.1843 - val_accuracy: 0.9393\n",
      "Epoch 21/30\n",
      "219/219 [==============================] - 251s 1s/step - loss: 0.0909 - accuracy: 0.9671 - val_loss: 0.2012 - val_accuracy: 0.9414\n",
      "Epoch 22/30\n",
      "219/219 [==============================] - 248s 1s/step - loss: 0.0837 - accuracy: 0.9711 - val_loss: 0.1716 - val_accuracy: 0.9500\n",
      "Epoch 23/30\n",
      "219/219 [==============================] - 250s 1s/step - loss: 0.0886 - accuracy: 0.9694 - val_loss: 0.2288 - val_accuracy: 0.9336\n",
      "Epoch 24/30\n",
      "219/219 [==============================] - 251s 1s/step - loss: 0.1125 - accuracy: 0.9613 - val_loss: 0.2077 - val_accuracy: 0.9414\n",
      "Epoch 25/30\n",
      "219/219 [==============================] - 250s 1s/step - loss: 0.0676 - accuracy: 0.9777 - val_loss: 0.1820 - val_accuracy: 0.9457\n",
      "Epoch 26/30\n",
      "219/219 [==============================] - 250s 1s/step - loss: 0.0776 - accuracy: 0.9734 - val_loss: 0.1618 - val_accuracy: 0.9564\n",
      "Epoch 27/30\n",
      "219/219 [==============================] - 250s 1s/step - loss: 0.0800 - accuracy: 0.9714 - val_loss: 0.1911 - val_accuracy: 0.9379\n",
      "Epoch 28/30\n",
      "219/219 [==============================] - 250s 1s/step - loss: 0.0715 - accuracy: 0.9753 - val_loss: 0.1859 - val_accuracy: 0.9493\n",
      "Epoch 29/30\n",
      "219/219 [==============================] - 250s 1s/step - loss: 0.0565 - accuracy: 0.9801 - val_loss: 0.1795 - val_accuracy: 0.9507\n",
      "Epoch 30/30\n",
      "219/219 [==============================] - 251s 1s/step - loss: 0.0593 - accuracy: 0.9809 - val_loss: 0.1879 - val_accuracy: 0.9536\n"
     ]
    }
   ],
   "source": [
    "history = model.fit(x_train,y_train,epochs = 30, callbacks = [checkpoint],validation_data = (x_validn,y_validn))"
   ]
  },
  {
   "cell_type": "code",
   "execution_count": 22,
   "id": "45bfd22c-00df-4e80-a09d-47eea11e6ef1",
   "metadata": {},
   "outputs": [],
   "source": [
    "import matplotlib.pyplot as plt"
   ]
  },
  {
   "cell_type": "code",
   "execution_count": 23,
   "id": "fbe7df9e-7a69-4e54-92e4-554f6d8c53c0",
   "metadata": {},
   "outputs": [
    {
     "data": {
      "image/png": "[encoded data removed]",
      "text/plain": [
       "<Figure size 640x480 with 1 Axes>"
      ]
     },
     "metadata": {},
     "output_type": "display_data"
    }
   ],
   "source": [
    "plt.plot(history.history['loss'],c='r',label = 'training loss')\n",
    "plt.plot(history.history['val_loss'],c='g',label = 'validation loss')\n",
    "plt.xlabel('no of epochs')\n",
    "plt.ylabel('loss')\n",
    "plt.legend()\n",
    "plt.grid()\n",
    "plt.show()"
   ]
  },
  {
   "cell_type": "code",
   "execution_count": 24,
   "id": "6f6934c5-ff05-4973-ac87-578ab8555e29",
   "metadata": {},
   "outputs": [
    {
     "name": "stdout",
     "output_type": "stream",
     "text": [
      "44/44 [==============================] - 13s 293ms/step - loss: 0.2218 - accuracy: 0.9429\n",
      "[0.22178754210472107, 0.9428571462631226]\n"
     ]
    }
   ],
   "source": [
    "print(model.evaluate(x_test,y_test))"
   ]
  },
  {
   "cell_type": "code",
   "execution_count": 25,
   "id": "207505ce-24c2-4708-9399-2feaa40ef4b2",
   "metadata": {},
   "outputs": [],
   "source": [
    "model.save('jack of all traits.keras')"
   ]
  }
 ],
 "metadata": {
  "kernelspec": {
   "display_name": "Python 3 (ipykernel)",
   "language": "python",
   "name": "python3"
  },
  "language_info": {
   "codemirror_mode": {
    "name": "ipython",
    "version": 3
   },
   "file_extension": ".py",
   "mimetype": "text/x-python",
   "name": "python",
   "nbconvert_exporter": "python",
   "pygments_lexer": "ipython3",
   "version": "3.8.10"
  }
 },
 "nbformat": 4,
 "nbformat_minor": 5
}
