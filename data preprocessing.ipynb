{
 "cells": [
  {
   "cell_type": "code",
   "execution_count": 1,
   "id": "b9c7876d-7f64-4234-bb42-a9d50ae1c58b",
   "metadata": {},
   "outputs": [],
   "source": [
    "import numpy as np\n",
    "import cv2\n",
    "import os\n",
    "from keras import utils"
   ]
  },
  {
   "cell_type": "markdown",
   "id": "1cadd084-af60-4b8f-b26f-7afd37bc8431",
   "metadata": {},
   "source": [
    "Train data prep"
   ]
  },
  {
   "cell_type": "code",
   "execution_count": 2,
   "id": "6bb85c97-32ba-4b3c-b0d1-5cf11a5bb27c",
   "metadata": {},
   "outputs": [],
   "source": [
    "data_path_folder = 'Vegetable Images/train'\n",
    "categories = os.listdir(data_path_folder)\n",
    "labels = [i for i in range(len(categories))]"
   ]
  },
  {
   "cell_type": "code",
   "execution_count": 3,
   "id": "38945e31-5efd-4017-b9ff-567dcad22b57",
   "metadata": {},
   "outputs": [
    {
     "name": "stdout",
     "output_type": "stream",
     "text": [
      "['Bitter_Gourd', 'Cabbage', 'Carrot', 'Cauliflower', 'Papaya', 'Potato', 'Tomato']\n",
      "[0, 1, 2, 3, 4, 5, 6]\n",
      "{'Bitter_Gourd': 0, 'Cabbage': 1, 'Carrot': 2, 'Cauliflower': 3, 'Papaya': 4, 'Potato': 5, 'Tomato': 6}\n"
     ]
    }
   ],
   "source": [
    "label_dict = dict(zip(categories,labels))\n",
    "print(categories)\n",
    "print(labels)\n",
    "print(label_dict)"
   ]
  },
  {
   "cell_type": "code",
   "execution_count": 4,
   "id": "855d9149-10c4-4610-8a3e-28883e2c1b2c",
   "metadata": {},
   "outputs": [],
   "source": [
    "img_size = 100\n",
    "train_data_in = []\n",
    "y_label_in = []\n",
    "\n",
    "for cat in categories:\n",
    "    folder_path = os.path.join(data_path_folder,cat)\n",
    "    img_names = os.listdir(folder_path)\n",
    "    \n",
    "    for img_name in img_names:\n",
    "        img_path = os.path.join(folder_path,img_name)\n",
    "        img = cv2.imread(img_path)\n",
    "\n",
    "        try:\n",
    "            gray = cv2.cvtColor(img,cv2.COLOR_BGR2GRAY)\n",
    "            resized = cv2.resize(gray,(img_size,img_size))\n",
    "            train_data_in.append(resized)\n",
    "            y_label_in.append(label_dict[cat])\n",
    "        except Exception as e:\n",
    "            print('Exception',e)\n",
    "    "
   ]
  },
  {
   "cell_type": "code",
   "execution_count": 5,
   "id": "cebce021-3f00-4eca-bbbe-ea66b138b159",
   "metadata": {},
   "outputs": [],
   "source": [
    "train_data  = np.array(train_data_in)/255.0"
   ]
  },
  {
   "cell_type": "code",
   "execution_count": 6,
   "id": "f7804a46-8152-4a91-9dca-82341cf5d524",
   "metadata": {},
   "outputs": [],
   "source": [
    "train_data = np.reshape(train_data,(train_data.shape[0],img_size,img_size,1))"
   ]
  },
  {
   "cell_type": "code",
   "execution_count": 7,
   "id": "c1d1a869-9f74-4f51-b30c-385495214788",
   "metadata": {},
   "outputs": [
    {
     "data": {
      "text/plain": [
       "(7000, 100, 100, 1)"
      ]
     },
     "execution_count": 7,
     "metadata": {},
     "output_type": "execute_result"
    }
   ],
   "source": [
    "train_data.shape"
   ]
  },
  {
   "cell_type": "code",
   "execution_count": 8,
   "id": "a2e1bd88-fd48-49a4-b324-9d2ea1492d7b",
   "metadata": {},
   "outputs": [],
   "source": [
    "y_train_in = np.array(y_label_in)"
   ]
  },
  {
   "cell_type": "code",
   "execution_count": 9,
   "id": "86d9618d-6562-4356-8717-9c1ddc88d87d",
   "metadata": {},
   "outputs": [],
   "source": [
    "y_train = utils.to_categorical(y_train_in)"
   ]
  },
  {
   "cell_type": "code",
   "execution_count": 10,
   "id": "41e56484-8661-4d3d-b8a3-b6a48fd93760",
   "metadata": {},
   "outputs": [],
   "source": [
    "np.save('train_data',train_data)\n",
    "np.save('y_train',y_train)"
   ]
  },
  {
   "cell_type": "markdown",
   "id": "d98f89eb-a7cb-45f9-86cd-5fa3eb7765fb",
   "metadata": {},
   "source": [
    "Validation data prep"
   ]
  },
  {
   "cell_type": "code",
   "execution_count": 11,
   "id": "77646817-3e7d-4ab7-9dc6-055ad207e1fe",
   "metadata": {},
   "outputs": [
    {
     "name": "stdout",
     "output_type": "stream",
     "text": [
      "['Bitter_Gourd', 'Cabbage', 'Carrot', 'Cauliflower', 'Papaya', 'Potato', 'Tomato']\n",
      "[0, 1, 2, 3, 4, 5, 6]\n",
      "{'Bitter_Gourd': 0, 'Cabbage': 1, 'Carrot': 2, 'Cauliflower': 3, 'Papaya': 4, 'Potato': 5, 'Tomato': 6}\n"
     ]
    }
   ],
   "source": [
    "data_path_folder_val = 'Vegetable Images/validation'\n",
    "categories_val = os.listdir(data_path_folder_val)\n",
    "labels_val = [i for i in range(len(categories_val))]\n",
    "\n",
    "label_dict_val = dict(zip(categories_val,labels_val))\n",
    "print(categories_val)\n",
    "print(labels_val)\n",
    "print(label_dict_val)\n"
   ]
  },
  {
   "cell_type": "code",
   "execution_count": 12,
   "id": "e75ef7d2-56e6-4b48-a905-d9c232434bdf",
   "metadata": {},
   "outputs": [],
   "source": [
    "img_size = 100\n",
    "val_data_in = []\n",
    "val_y_label_in = []\n",
    "\n",
    "for cat in categories_val:\n",
    "    folder_path = os.path.join(data_path_folder_val,cat)\n",
    "    img_names = os.listdir(folder_path)\n",
    "    \n",
    "    for img_name in img_names:\n",
    "        img_path = os.path.join(folder_path,img_name)\n",
    "        img = cv2.imread(img_path)\n",
    "\n",
    "        try:\n",
    "            gray = cv2.cvtColor(img,cv2.COLOR_BGR2GRAY)\n",
    "            resized = cv2.resize(gray,(img_size,img_size))\n",
    "            val_data_in.append(resized)\n",
    "            val_y_label_in.append(label_dict_val[cat])\n",
    "        except Exception as e:\n",
    "            print('Exception',e)"
   ]
  },
  {
   "cell_type": "code",
   "execution_count": 13,
   "id": "710077a2-b6b7-4cf9-ba82-06c55f713d99",
   "metadata": {},
   "outputs": [],
   "source": [
    "val_data  = np.array(val_data_in)/255.0\n",
    "val_data = np.reshape(val_data,(val_data.shape[0],img_size,img_size,1))\n",
    "y_val_in = np.array(val_y_label_in)\n",
    "y_val = utils.to_categorical(y_val_in)"
   ]
  },
  {
   "cell_type": "code",
   "execution_count": 14,
   "id": "27e4e23f-8805-42a1-82f2-d0bc251bcc26",
   "metadata": {},
   "outputs": [],
   "source": [
    "np.save('validation_data',val_data)\n",
    "np.save('y_validation_data',y_val)"
   ]
  },
  {
   "cell_type": "markdown",
   "id": "47511fb0-d548-498c-a2a1-6a0976acc76d",
   "metadata": {},
   "source": [
    "Test data prep"
   ]
  },
  {
   "cell_type": "code",
   "execution_count": 15,
   "id": "7e06b865-1cbe-4151-8970-8203cdc3cb9f",
   "metadata": {},
   "outputs": [
    {
     "name": "stdout",
     "output_type": "stream",
     "text": [
      "['Bitter_Gourd', 'Cabbage', 'Carrot', 'Cauliflower', 'Papaya', 'Potato', 'Tomato']\n",
      "[0, 1, 2, 3, 4, 5, 6]\n",
      "{'Bitter_Gourd': 0, 'Cabbage': 1, 'Carrot': 2, 'Cauliflower': 3, 'Papaya': 4, 'Potato': 5, 'Tomato': 6}\n"
     ]
    }
   ],
   "source": [
    "data_path_folder_test = 'Vegetable Images/test'\n",
    "categories_test = os.listdir(data_path_folder_test)\n",
    "labels_test = [i for i in range(len(categories_test))]\n",
    "\n",
    "label_dict_test = dict(zip(categories_test,labels_test))\n",
    "print(categories_test)\n",
    "print(labels_test)\n",
    "print(label_dict_test)\n"
   ]
  },
  {
   "cell_type": "code",
   "execution_count": 16,
   "id": "953a3a6b-faf5-4b85-b9c1-250e446b7e07",
   "metadata": {},
   "outputs": [],
   "source": [
    "test_data_in = []\n",
    "test_y_label_in = []\n",
    "\n",
    "for cat in categories_test:\n",
    "    folder_path = os.path.join(data_path_folder_test,cat)\n",
    "    img_names = os.listdir(folder_path)\n",
    "    \n",
    "    for img_name in img_names:\n",
    "        img_path = os.path.join(folder_path,img_name)\n",
    "        img = cv2.imread(img_path)\n",
    "\n",
    "        try:\n",
    "            gray = cv2.cvtColor(img,cv2.COLOR_BGR2GRAY)\n",
    "            resized = cv2.resize(gray,(img_size,img_size))\n",
    "            test_data_in.append(resized)\n",
    "            test_y_label_in.append(label_dict_test[cat])\n",
    "        except Exception as e:\n",
    "            print('Exception',e)"
   ]
  },
  {
   "cell_type": "code",
   "execution_count": 17,
   "id": "5026abc6-0bb5-4042-a50b-619aedec681e",
   "metadata": {},
   "outputs": [],
   "source": [
    "test_data  = np.array(test_data_in)/255.0\n",
    "test_data = np.reshape(test_data,(test_data.shape[0],img_size,img_size,1))\n",
    "y_test_in = np.array(test_y_label_in)\n",
    "y_test = utils.to_categorical(y_test_in)"
   ]
  },
  {
   "cell_type": "code",
   "execution_count": 18,
   "id": "f7bc114b-e9fa-40ac-9ce6-aa0f4a8eef27",
   "metadata": {},
   "outputs": [],
   "source": [
    "np.save('test_data',test_data)\n",
    "np.save('y_test',y_test)"
   ]
  },
  {
   "cell_type": "code",
   "execution_count": null,
   "id": "f794375d-b0c8-43e9-a453-1e1c0031e560",
   "metadata": {},
   "outputs": [],
   "source": []
  }
 ],
 "metadata": {
  "kernelspec": {
   "display_name": "Python 3 (ipykernel)",
   "language": "python",
   "name": "python3"
  },
  "language_info": {
   "codemirror_mode": {
    "name": "ipython",
    "version": 3
   },
   "file_extension": ".py",
   "mimetype": "text/x-python",
   "name": "python",
   "nbconvert_exporter": "python",
   "pygments_lexer": "ipython3",
   "version": "3.8.10"
  }
 },
 "nbformat": 4,
 "nbformat_minor": 5
}
